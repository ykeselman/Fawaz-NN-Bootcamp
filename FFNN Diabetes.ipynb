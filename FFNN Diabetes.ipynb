{
 "cells": [
  {
   "cell_type": "code",
   "execution_count": 1,
   "metadata": {},
   "outputs": [],
   "source": [
    "import numpy as np\n",
    "import torch\n",
    "import torch.nn as nn\n",
    "import pandas as pd\n",
    "from sklearn.preprocessing import StandardScaler\n",
    "from torch.utils.data import Dataset"
   ]
  },
  {
   "cell_type": "code",
   "execution_count": 2,
   "metadata": {},
   "outputs": [],
   "source": [
    "# Load the dataset using Pandas\n",
    "data = pd.read_csv('diabetes.csv')"
   ]
  },
  {
   "cell_type": "code",
   "execution_count": null,
   "metadata": {},
   "outputs": [],
   "source": [
    "# For x: Extract out the dataset from all the rows (all samples) and all columns except last column (all features). \n",
    "# For y: Extract out the last column (which is the label)\n",
    "# Convert both to numpy using the .values method\n",
    "x = data.iloc[:,0:-1].values\n",
    "y_string = list(data.iloc[:,-1])"
   ]
  },
  {
   "cell_type": "code",
   "execution_count": 4,
   "metadata": {},
   "outputs": [
    {
     "name": "stdout",
     "output_type": "stream",
     "text": [
      "[[  6.  148.   72.   35.    0.   33.6  50. ]\n",
      " [  1.   85.   66.   29.    0.   26.6  31. ]\n",
      " [  8.  183.   64.    0.    0.   23.3  32. ]]\n",
      "['positive', 'negative', 'positive']\n"
     ]
    }
   ],
   "source": [
    "# Lets have a look some samples from our data\n",
    "print(x[:3])\n",
    "print(y_string[:3])"
   ]
  },
  {
   "cell_type": "code",
   "execution_count": 5,
   "metadata": {},
   "outputs": [],
   "source": [
    "# Our neural network only understand numbers! So convert the string to labels\n",
    "y_int = []\n",
    "for string in y_string:\n",
    "    if string == 'positive':\n",
    "        y_int.append(1)\n",
    "    else:\n",
    "        y_int.append(0)"
   ]
  },
  {
   "cell_type": "code",
   "execution_count": 6,
   "metadata": {},
   "outputs": [],
   "source": [
    "# Now convert to an array\n",
    "y = np.array(y_int, dtype = 'float64')"
   ]
  },
  {
   "cell_type": "markdown",
   "metadata": {},
   "source": [
    "### $x^{\\prime}=\\frac{x-\\mu}{\\sigma}$"
   ]
  },
  {
   "cell_type": "code",
   "execution_count": 7,
   "metadata": {},
   "outputs": [],
   "source": [
    "# Feature Normalization. All features should have the same range of values (-1,1)\n",
    "sc = StandardScaler()\n",
    "x = sc.fit_transform(x)"
   ]
  },
  {
   "cell_type": "code",
   "execution_count": 8,
   "metadata": {},
   "outputs": [],
   "source": [
    "# Now we convert the arrays to PyTorch tensors\n",
    "x = torch.tensor(x)\n",
    "# We add an extra dimension to convert this array to 2D\n",
    "y = torch.tensor(y).unsqueeze(1)"
   ]
  },
  {
   "cell_type": "code",
   "execution_count": 9,
   "metadata": {},
   "outputs": [
    {
     "name": "stdout",
     "output_type": "stream",
     "text": [
      "torch.Size([768, 7])\n",
      "torch.Size([768, 1])\n"
     ]
    }
   ],
   "source": [
    "print(x.shape)\n",
    "print(y.shape)"
   ]
  },
  {
   "cell_type": "code",
   "execution_count": 10,
   "metadata": {},
   "outputs": [],
   "source": [
    "class Dataset(Dataset):\n",
    "\n",
    "    def __init__(self,x,y):\n",
    "        self.x = x\n",
    "        self.y = y\n",
    "        \n",
    "    def __getitem__(self,index):\n",
    "        # Get one item from the dataset\n",
    "        return self.x[index], self.y[index]\n",
    "    \n",
    "    def __len__(self):\n",
    "        return len(self.x)"
   ]
  },
  {
   "cell_type": "code",
   "execution_count": 11,
   "metadata": {},
   "outputs": [],
   "source": [
    "dataset = Dataset(x,y)"
   ]
  },
  {
   "cell_type": "code",
   "execution_count": 12,
   "metadata": {},
   "outputs": [
    {
     "data": {
      "text/plain": [
       "768"
      ]
     },
     "execution_count": 12,
     "metadata": {},
     "output_type": "execute_result"
    }
   ],
   "source": [
    "len(dataset)"
   ]
  },
  {
   "cell_type": "code",
   "execution_count": null,
   "metadata": {},
   "outputs": [],
   "source": [
    "# Load the data to your dataloader for batch processing and shuffling\n",
    "train_loader = torch.utils.data.DataLoader(\n",
    "    dataset=dataset,\n",
    "    batch_size=32,\n",
    "    shuffle=True\n",
    ")"
   ]
  },
  {
   "cell_type": "code",
   "execution_count": 14,
   "metadata": {},
   "outputs": [
    {
     "name": "stdout",
     "output_type": "stream",
     "text": [
      "There is 24 batches in the dataset\n",
      "For one iteration (batch), there is:\n",
      "Data:    torch.Size([32, 7])\n",
      "Labels:  torch.Size([32, 1])\n"
     ]
    }
   ],
   "source": [
    "# Let's have a look at the data loader\n",
    "print(\"There is {} batches in the dataset\".format(len(train_loader)))\n",
    "for (x,y) in train_loader:\n",
    "    print(\"For one iteration (batch), there is:\")\n",
    "    print(\"Data:    {}\".format(x.shape))\n",
    "    print(\"Labels:  {}\".format(y.shape))\n",
    "    break"
   ]
  },
  {
   "cell_type": "markdown",
   "metadata": {},
   "source": [
    "![demo](https://user-images.githubusercontent.com/30661597/60379583-246e5e80-9a68-11e9-8b7f-a4294234c201.png)"
   ]
  },
  {
   "cell_type": "code",
   "execution_count": 19,
   "metadata": {},
   "outputs": [],
   "source": [
    "# Now let's build the above network\n",
    "class Model(nn.Module):\n",
    "    def __init__(self, input_features):\n",
    "        super(Model, self).__init__()\n",
    "        self.fc1 = nn.Linear(input_features, 5)\n",
    "        self.fc2 = nn.Linear(5, 4)\n",
    "        self.fc3 = nn.Linear(4, 3)\n",
    "        self.fc4 = nn.Linear(3, 1)\n",
    "        self.sigmoid = nn.Sigmoid()\n",
    "        self.tanh = nn.Tanh()\n",
    "        self.layers = nn.Sequential(\n",
    "            self.fc1,\n",
    "            self.tanh,\n",
    "            self.fc2,\n",
    "            self.tanh,\n",
    "            self.fc3,\n",
    "            self.tanh,\n",
    "            self.fc4,\n",
    "            self.sigmoid\n",
    "        )\n",
    "\n",
    "    def forward(self, x):\n",
    "        return self.layers(x)"
   ]
  },
  {
   "cell_type": "markdown",
   "metadata": {},
   "source": [
    "$H_{p}(q)=-\\frac{1}{N} \\sum_{i=1}^{N} y_{i} \\cdot \\log \\left(p\\left(y_{i}\\right)\\right)+\\left(1-y_{i}\\right) \\cdot \\log \\left(1-p\\left(y_{i}\\right)\\right)$\n",
    "\n",
    "\n",
    "cost = -(Y * torch.log(hypothesis) + (1 - Y) * torch.log(1 - hypothesis)).mean()"
   ]
  },
  {
   "cell_type": "code",
   "execution_count": 21,
   "metadata": {},
   "outputs": [
    {
     "name": "stderr",
     "output_type": "stream",
     "text": [
      "/home/yakov/anaconda3/envs/studies/lib/python3.11/site-packages/torch/nn/_reduction.py:51: UserWarning: size_average and reduce args will be deprecated, please use reduction='mean' instead.\n",
      "  warnings.warn(warning.format(ret))\n"
     ]
    }
   ],
   "source": [
    "# Create the network (an object of the Net class)\n",
    "net = Model(x.shape[1])\n",
    "#In Binary Cross Entropy: the input and output should have the same shape \n",
    "#size_average = True --> the losses are averaged over observations for each minibatch\n",
    "criterion = torch.nn.BCELoss(size_average=True)   \n",
    "# We will use SGD with momentum with a learning rate of 0.1\n",
    "optimizer = torch.optim.SGD(net.parameters(), lr=0.1, momentum=0.9)"
   ]
  },
  {
   "cell_type": "code",
   "execution_count": 22,
   "metadata": {},
   "outputs": [
    {
     "name": "stdout",
     "output_type": "stream",
     "text": [
      "Epoch 1/200, Loss: 0.683, Accuracy: 0.625\n",
      "Epoch 2/200, Loss: 0.425, Accuracy: 0.812\n",
      "Epoch 3/200, Loss: 0.578, Accuracy: 0.625\n",
      "Epoch 4/200, Loss: 0.495, Accuracy: 0.719\n",
      "Epoch 5/200, Loss: 0.609, Accuracy: 0.688\n",
      "Epoch 6/200, Loss: 0.446, Accuracy: 0.750\n",
      "Epoch 7/200, Loss: 0.417, Accuracy: 0.812\n",
      "Epoch 8/200, Loss: 0.287, Accuracy: 0.906\n",
      "Epoch 9/200, Loss: 0.659, Accuracy: 0.656\n",
      "Epoch 10/200, Loss: 0.418, Accuracy: 0.812\n",
      "Epoch 11/200, Loss: 0.474, Accuracy: 0.812\n",
      "Epoch 12/200, Loss: 0.334, Accuracy: 0.938\n",
      "Epoch 13/200, Loss: 0.519, Accuracy: 0.719\n",
      "Epoch 14/200, Loss: 0.534, Accuracy: 0.750\n",
      "Epoch 15/200, Loss: 0.562, Accuracy: 0.656\n",
      "Epoch 16/200, Loss: 0.378, Accuracy: 0.812\n",
      "Epoch 17/200, Loss: 0.622, Accuracy: 0.688\n",
      "Epoch 18/200, Loss: 0.511, Accuracy: 0.781\n",
      "Epoch 19/200, Loss: 0.381, Accuracy: 0.906\n",
      "Epoch 20/200, Loss: 0.331, Accuracy: 0.875\n",
      "Epoch 21/200, Loss: 0.509, Accuracy: 0.781\n",
      "Epoch 22/200, Loss: 0.542, Accuracy: 0.750\n",
      "Epoch 23/200, Loss: 0.324, Accuracy: 0.938\n",
      "Epoch 24/200, Loss: 0.528, Accuracy: 0.750\n",
      "Epoch 25/200, Loss: 0.473, Accuracy: 0.750\n",
      "Epoch 26/200, Loss: 0.338, Accuracy: 0.875\n",
      "Epoch 27/200, Loss: 0.554, Accuracy: 0.750\n",
      "Epoch 28/200, Loss: 0.404, Accuracy: 0.750\n",
      "Epoch 29/200, Loss: 0.300, Accuracy: 0.875\n",
      "Epoch 30/200, Loss: 0.556, Accuracy: 0.719\n",
      "Epoch 31/200, Loss: 0.486, Accuracy: 0.688\n",
      "Epoch 32/200, Loss: 0.538, Accuracy: 0.750\n",
      "Epoch 33/200, Loss: 0.384, Accuracy: 0.844\n",
      "Epoch 34/200, Loss: 0.456, Accuracy: 0.812\n",
      "Epoch 35/200, Loss: 0.482, Accuracy: 0.750\n",
      "Epoch 36/200, Loss: 0.259, Accuracy: 0.938\n",
      "Epoch 37/200, Loss: 0.384, Accuracy: 0.844\n",
      "Epoch 38/200, Loss: 0.392, Accuracy: 0.812\n",
      "Epoch 39/200, Loss: 0.429, Accuracy: 0.750\n",
      "Epoch 40/200, Loss: 0.556, Accuracy: 0.750\n",
      "Epoch 41/200, Loss: 0.312, Accuracy: 0.812\n",
      "Epoch 42/200, Loss: 0.474, Accuracy: 0.844\n",
      "Epoch 43/200, Loss: 0.483, Accuracy: 0.750\n",
      "Epoch 44/200, Loss: 0.466, Accuracy: 0.781\n",
      "Epoch 45/200, Loss: 0.300, Accuracy: 0.906\n",
      "Epoch 46/200, Loss: 0.329, Accuracy: 0.844\n",
      "Epoch 47/200, Loss: 0.592, Accuracy: 0.594\n",
      "Epoch 48/200, Loss: 0.514, Accuracy: 0.656\n",
      "Epoch 49/200, Loss: 0.305, Accuracy: 0.938\n",
      "Epoch 50/200, Loss: 0.418, Accuracy: 0.781\n",
      "Epoch 51/200, Loss: 0.351, Accuracy: 0.844\n",
      "Epoch 52/200, Loss: 0.576, Accuracy: 0.812\n",
      "Epoch 53/200, Loss: 0.617, Accuracy: 0.688\n",
      "Epoch 54/200, Loss: 0.474, Accuracy: 0.781\n",
      "Epoch 55/200, Loss: 0.437, Accuracy: 0.781\n",
      "Epoch 56/200, Loss: 0.479, Accuracy: 0.750\n",
      "Epoch 57/200, Loss: 0.491, Accuracy: 0.719\n",
      "Epoch 58/200, Loss: 0.545, Accuracy: 0.781\n",
      "Epoch 59/200, Loss: 0.417, Accuracy: 0.812\n",
      "Epoch 60/200, Loss: 0.240, Accuracy: 0.875\n",
      "Epoch 61/200, Loss: 0.427, Accuracy: 0.812\n",
      "Epoch 62/200, Loss: 0.513, Accuracy: 0.812\n",
      "Epoch 63/200, Loss: 0.459, Accuracy: 0.812\n",
      "Epoch 64/200, Loss: 0.316, Accuracy: 0.906\n",
      "Epoch 65/200, Loss: 0.392, Accuracy: 0.719\n",
      "Epoch 66/200, Loss: 0.558, Accuracy: 0.656\n",
      "Epoch 67/200, Loss: 0.334, Accuracy: 0.781\n",
      "Epoch 68/200, Loss: 0.293, Accuracy: 0.844\n",
      "Epoch 69/200, Loss: 0.596, Accuracy: 0.750\n",
      "Epoch 70/200, Loss: 0.490, Accuracy: 0.781\n",
      "Epoch 71/200, Loss: 0.566, Accuracy: 0.719\n",
      "Epoch 72/200, Loss: 0.409, Accuracy: 0.844\n",
      "Epoch 73/200, Loss: 0.343, Accuracy: 0.812\n",
      "Epoch 74/200, Loss: 0.367, Accuracy: 0.875\n",
      "Epoch 75/200, Loss: 0.383, Accuracy: 0.812\n",
      "Epoch 76/200, Loss: 0.394, Accuracy: 0.844\n",
      "Epoch 77/200, Loss: 0.371, Accuracy: 0.781\n",
      "Epoch 78/200, Loss: 0.335, Accuracy: 0.875\n",
      "Epoch 79/200, Loss: 0.282, Accuracy: 0.812\n",
      "Epoch 80/200, Loss: 0.550, Accuracy: 0.812\n",
      "Epoch 81/200, Loss: 0.427, Accuracy: 0.844\n",
      "Epoch 82/200, Loss: 0.392, Accuracy: 0.875\n",
      "Epoch 83/200, Loss: 0.452, Accuracy: 0.719\n",
      "Epoch 84/200, Loss: 0.365, Accuracy: 0.875\n",
      "Epoch 85/200, Loss: 0.353, Accuracy: 0.875\n",
      "Epoch 86/200, Loss: 0.431, Accuracy: 0.781\n",
      "Epoch 87/200, Loss: 0.377, Accuracy: 0.875\n",
      "Epoch 88/200, Loss: 0.503, Accuracy: 0.750\n",
      "Epoch 89/200, Loss: 0.316, Accuracy: 0.844\n",
      "Epoch 90/200, Loss: 0.508, Accuracy: 0.781\n",
      "Epoch 91/200, Loss: 0.556, Accuracy: 0.656\n",
      "Epoch 92/200, Loss: 0.422, Accuracy: 0.781\n",
      "Epoch 93/200, Loss: 0.412, Accuracy: 0.812\n",
      "Epoch 94/200, Loss: 0.377, Accuracy: 0.812\n",
      "Epoch 95/200, Loss: 0.436, Accuracy: 0.812\n",
      "Epoch 96/200, Loss: 0.289, Accuracy: 0.844\n",
      "Epoch 97/200, Loss: 0.229, Accuracy: 0.875\n",
      "Epoch 98/200, Loss: 0.591, Accuracy: 0.656\n",
      "Epoch 99/200, Loss: 0.533, Accuracy: 0.781\n",
      "Epoch 100/200, Loss: 0.415, Accuracy: 0.812\n",
      "Epoch 101/200, Loss: 0.335, Accuracy: 0.875\n",
      "Epoch 102/200, Loss: 0.451, Accuracy: 0.719\n",
      "Epoch 103/200, Loss: 0.376, Accuracy: 0.875\n",
      "Epoch 104/200, Loss: 0.395, Accuracy: 0.844\n",
      "Epoch 105/200, Loss: 0.487, Accuracy: 0.812\n",
      "Epoch 106/200, Loss: 0.397, Accuracy: 0.812\n",
      "Epoch 107/200, Loss: 0.561, Accuracy: 0.688\n",
      "Epoch 108/200, Loss: 0.390, Accuracy: 0.812\n",
      "Epoch 109/200, Loss: 0.468, Accuracy: 0.844\n",
      "Epoch 110/200, Loss: 0.551, Accuracy: 0.688\n",
      "Epoch 111/200, Loss: 0.396, Accuracy: 0.781\n",
      "Epoch 112/200, Loss: 0.338, Accuracy: 0.875\n",
      "Epoch 113/200, Loss: 0.480, Accuracy: 0.781\n",
      "Epoch 114/200, Loss: 0.289, Accuracy: 0.938\n",
      "Epoch 115/200, Loss: 0.433, Accuracy: 0.781\n",
      "Epoch 116/200, Loss: 0.520, Accuracy: 0.719\n",
      "Epoch 117/200, Loss: 0.464, Accuracy: 0.750\n",
      "Epoch 118/200, Loss: 0.551, Accuracy: 0.781\n",
      "Epoch 119/200, Loss: 0.408, Accuracy: 0.781\n",
      "Epoch 120/200, Loss: 0.277, Accuracy: 0.875\n",
      "Epoch 121/200, Loss: 0.437, Accuracy: 0.875\n",
      "Epoch 122/200, Loss: 0.352, Accuracy: 0.844\n",
      "Epoch 123/200, Loss: 0.293, Accuracy: 0.875\n",
      "Epoch 124/200, Loss: 0.463, Accuracy: 0.719\n",
      "Epoch 125/200, Loss: 0.418, Accuracy: 0.812\n",
      "Epoch 126/200, Loss: 0.364, Accuracy: 0.781\n",
      "Epoch 127/200, Loss: 0.592, Accuracy: 0.781\n",
      "Epoch 128/200, Loss: 0.441, Accuracy: 0.812\n",
      "Epoch 129/200, Loss: 0.388, Accuracy: 0.781\n",
      "Epoch 130/200, Loss: 0.418, Accuracy: 0.781\n",
      "Epoch 131/200, Loss: 0.407, Accuracy: 0.781\n",
      "Epoch 132/200, Loss: 0.475, Accuracy: 0.812\n",
      "Epoch 133/200, Loss: 0.286, Accuracy: 0.906\n",
      "Epoch 134/200, Loss: 0.493, Accuracy: 0.719\n",
      "Epoch 135/200, Loss: 0.450, Accuracy: 0.812\n",
      "Epoch 136/200, Loss: 0.519, Accuracy: 0.719\n",
      "Epoch 137/200, Loss: 0.506, Accuracy: 0.812\n",
      "Epoch 138/200, Loss: 0.349, Accuracy: 0.812\n",
      "Epoch 139/200, Loss: 0.587, Accuracy: 0.750\n",
      "Epoch 140/200, Loss: 0.423, Accuracy: 0.781\n",
      "Epoch 141/200, Loss: 0.393, Accuracy: 0.781\n",
      "Epoch 142/200, Loss: 0.566, Accuracy: 0.688\n",
      "Epoch 143/200, Loss: 0.423, Accuracy: 0.750\n",
      "Epoch 144/200, Loss: 0.388, Accuracy: 0.812\n",
      "Epoch 145/200, Loss: 0.291, Accuracy: 0.906\n",
      "Epoch 146/200, Loss: 0.382, Accuracy: 0.844\n",
      "Epoch 147/200, Loss: 0.375, Accuracy: 0.844\n",
      "Epoch 148/200, Loss: 0.362, Accuracy: 0.875\n",
      "Epoch 149/200, Loss: 0.453, Accuracy: 0.812\n",
      "Epoch 150/200, Loss: 0.461, Accuracy: 0.844\n",
      "Epoch 151/200, Loss: 0.411, Accuracy: 0.844\n",
      "Epoch 152/200, Loss: 0.546, Accuracy: 0.750\n",
      "Epoch 153/200, Loss: 0.475, Accuracy: 0.781\n",
      "Epoch 154/200, Loss: 0.348, Accuracy: 0.875\n",
      "Epoch 155/200, Loss: 0.516, Accuracy: 0.719\n",
      "Epoch 156/200, Loss: 0.377, Accuracy: 0.875\n",
      "Epoch 157/200, Loss: 0.433, Accuracy: 0.750\n",
      "Epoch 158/200, Loss: 0.535, Accuracy: 0.812\n",
      "Epoch 159/200, Loss: 0.629, Accuracy: 0.625\n",
      "Epoch 160/200, Loss: 0.340, Accuracy: 0.906\n",
      "Epoch 161/200, Loss: 0.574, Accuracy: 0.719\n",
      "Epoch 162/200, Loss: 0.513, Accuracy: 0.719\n",
      "Epoch 163/200, Loss: 0.498, Accuracy: 0.750\n",
      "Epoch 164/200, Loss: 0.375, Accuracy: 0.875\n",
      "Epoch 165/200, Loss: 0.404, Accuracy: 0.812\n",
      "Epoch 166/200, Loss: 0.358, Accuracy: 0.875\n",
      "Epoch 167/200, Loss: 0.417, Accuracy: 0.844\n",
      "Epoch 168/200, Loss: 0.334, Accuracy: 0.812\n",
      "Epoch 169/200, Loss: 0.457, Accuracy: 0.875\n",
      "Epoch 170/200, Loss: 0.468, Accuracy: 0.750\n",
      "Epoch 171/200, Loss: 0.297, Accuracy: 0.906\n",
      "Epoch 172/200, Loss: 0.374, Accuracy: 0.844\n",
      "Epoch 173/200, Loss: 0.373, Accuracy: 0.875\n",
      "Epoch 174/200, Loss: 0.396, Accuracy: 0.875\n",
      "Epoch 175/200, Loss: 0.440, Accuracy: 0.781\n",
      "Epoch 176/200, Loss: 0.458, Accuracy: 0.781\n",
      "Epoch 177/200, Loss: 0.495, Accuracy: 0.750\n",
      "Epoch 178/200, Loss: 0.436, Accuracy: 0.812\n",
      "Epoch 179/200, Loss: 0.383, Accuracy: 0.875\n",
      "Epoch 180/200, Loss: 0.222, Accuracy: 0.906\n",
      "Epoch 181/200, Loss: 0.515, Accuracy: 0.844\n",
      "Epoch 182/200, Loss: 0.458, Accuracy: 0.781\n",
      "Epoch 183/200, Loss: 0.537, Accuracy: 0.688\n",
      "Epoch 184/200, Loss: 0.334, Accuracy: 0.875\n",
      "Epoch 185/200, Loss: 0.390, Accuracy: 0.812\n",
      "Epoch 186/200, Loss: 0.460, Accuracy: 0.750\n",
      "Epoch 187/200, Loss: 0.440, Accuracy: 0.812\n",
      "Epoch 188/200, Loss: 0.443, Accuracy: 0.750\n",
      "Epoch 189/200, Loss: 0.314, Accuracy: 0.844\n",
      "Epoch 190/200, Loss: 0.386, Accuracy: 0.844\n",
      "Epoch 191/200, Loss: 0.370, Accuracy: 0.812\n",
      "Epoch 192/200, Loss: 0.361, Accuracy: 0.844\n",
      "Epoch 193/200, Loss: 0.463, Accuracy: 0.750\n",
      "Epoch 194/200, Loss: 0.380, Accuracy: 0.844\n",
      "Epoch 195/200, Loss: 0.433, Accuracy: 0.875\n",
      "Epoch 196/200, Loss: 0.421, Accuracy: 0.812\n",
      "Epoch 197/200, Loss: 0.381, Accuracy: 0.844\n",
      "Epoch 198/200, Loss: 0.346, Accuracy: 0.875\n",
      "Epoch 199/200, Loss: 0.470, Accuracy: 0.719\n",
      "Epoch 200/200, Loss: 0.289, Accuracy: 0.875\n"
     ]
    }
   ],
   "source": [
    "# Train the network \n",
    "num_epochs = 200\n",
    "for epoch in range(num_epochs):\n",
    "    for inputs,labels in train_loader:\n",
    "        inputs = inputs.float()\n",
    "        labels = labels.float()\n",
    "        # Feed Forward\n",
    "        output = net(inputs)\n",
    "        # Loss Calculation\n",
    "        loss = criterion(output, labels)\n",
    "        # Clear the gradient buffer (we don't want to accumulate gradients)\n",
    "        optimizer.zero_grad()\n",
    "        # Backpropagation \n",
    "        loss.backward()\n",
    "        # Weight Update: w <-- w - lr * gradient\n",
    "        optimizer.step()\n",
    "        \n",
    "    #Accuracy\n",
    "    # Since we are using a sigmoid, we will need to perform some thresholding\n",
    "    output = (output>0.5).float()\n",
    "    # Accuracy: (output == labels).float().sum() / output.shape[0]\n",
    "    accuracy = (output == labels).float().mean()\n",
    "    # Print statistics \n",
    "    print(\"Epoch {}/{}, Loss: {:.3f}, Accuracy: {:.3f}\".format(epoch+1,num_epochs, loss, accuracy))"
   ]
  },
  {
   "cell_type": "code",
   "execution_count": null,
   "metadata": {},
   "outputs": [],
   "source": []
  }
 ],
 "metadata": {
  "kernelspec": {
   "display_name": "studies",
   "language": "python",
   "name": "python3"
  },
  "language_info": {
   "codemirror_mode": {
    "name": "ipython",
    "version": 3
   },
   "file_extension": ".py",
   "mimetype": "text/x-python",
   "name": "python",
   "nbconvert_exporter": "python",
   "pygments_lexer": "ipython3",
   "version": "3.11.10"
  }
 },
 "nbformat": 4,
 "nbformat_minor": 2
}
