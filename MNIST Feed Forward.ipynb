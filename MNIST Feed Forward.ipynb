{
 "cells": [
  {
   "cell_type": "code",
   "execution_count": 1,
   "metadata": {},
   "outputs": [],
   "source": [
    "import torch\n",
    "import torch.nn as nn\n",
    "import torchvision.datasets as datasets \n",
    "import torchvision.transforms as transforms"
   ]
  },
  {
   "cell_type": "code",
   "execution_count": 2,
   "metadata": {},
   "outputs": [],
   "source": [
    "input_size = 784        #Number of input neurons (image pixels)\n",
    "hidden_size = 400       #Number of hidden neurons\n",
    "out_size = 10           #Number of classes (0-9) \n",
    "epochs = 10            #How many times we pass our entire dataset into our network \n",
    "batch_size = 100        #Input size of the data during one iteration \n",
    "learning_rate = 0.001   #How fast we are learning"
   ]
  },
  {
   "cell_type": "code",
   "execution_count": null,
   "metadata": {},
   "outputs": [
    {
     "name": "stderr",
     "output_type": "stream",
     "text": [
      "100%|██████████| 9.91M/9.91M [00:00<00:00, 11.1MB/s]\n",
      "100%|██████████| 28.9k/28.9k [00:00<00:00, 318kB/s]\n",
      "100%|██████████| 1.65M/1.65M [00:00<00:00, 2.92MB/s]\n",
      "100%|██████████| 4.54k/4.54k [00:00<00:00, 3.78MB/s]\n"
     ]
    }
   ],
   "source": [
    "train_dataset = datasets.MNIST(\n",
    "    root='./data',\n",
    "    train=True,\n",
    "    transform=transforms.ToTensor(),\n",
    "    download=True\n",
    ")\n",
    "\n",
    "test_dataset = datasets.MNIST(\n",
    "    root='./data',\n",
    "    train=False,\n",
    "    transform=transforms.ToTensor()\n",
    ")"
   ]
  },
  {
   "cell_type": "code",
   "execution_count": 4,
   "metadata": {},
   "outputs": [],
   "source": [
    "train_loader = torch.utils.data.DataLoader(dataset=train_dataset,\n",
    "                                          batch_size=batch_size,\n",
    "                                          shuffle=True)\n",
    "\n",
    "test_loader = torch.utils.data.DataLoader(dataset=test_dataset,\n",
    "                                          batch_size=batch_size,\n",
    "                                          shuffle=False)"
   ]
  },
  {
   "cell_type": "markdown",
   "metadata": {},
   "source": [
    "![nn mnist](https://user-images.githubusercontent.com/30661597/61593615-5eb8bf00-ac14-11e9-8087-f880971b3543.png)\n"
   ]
  },
  {
   "cell_type": "code",
   "execution_count": 5,
   "metadata": {},
   "outputs": [],
   "source": [
    "class Net(nn.Module):\n",
    "    def __init__(self, input_size, hidden_size, out_size):\n",
    "        super(Net, self).__init__()                    \n",
    "        self.fc1 = nn.Linear(input_size, hidden_size)    #First Layer                           \n",
    "        self.fc2 = nn.Linear(hidden_size, hidden_size)      #Second Layer Activation\n",
    "        self.fc3 = nn.Linear(hidden_size, out_size)\n",
    "        self.relu = nn.ReLU()\n",
    "        self.init_weights()\n",
    "        \n",
    "    def init_weights(self):\n",
    "        nn.init.kaiming_normal_(self.fc1.weight)\n",
    "        nn.init.kaiming_normal_(self.fc2.weight)\n",
    "\n",
    "    def forward(self, x):                          \n",
    "        out = self.fc1(x)\n",
    "        out = self.relu(out)\n",
    "        out = self.fc2(out)\n",
    "        out = self.relu(out)\n",
    "        out = self.fc3(out)\n",
    "        return out"
   ]
  },
  {
   "cell_type": "code",
   "execution_count": 6,
   "metadata": {},
   "outputs": [],
   "source": [
    "#Create an object of the class, which represents our network \n",
    "net = Net(input_size, hidden_size, out_size)\n",
    "CUDA = torch.cuda.is_available()\n",
    "if CUDA:\n",
    "    net = net.cuda()\n",
    "#The loss function. The Cross Entropy loss comes along with Softmax. Therefore, no need to specify Softmax as well\n",
    "criterion = nn.CrossEntropyLoss()\n",
    "optimizer = torch.optim.Adam(net.parameters(), lr=learning_rate)"
   ]
  },
  {
   "cell_type": "code",
   "execution_count": 7,
   "metadata": {},
   "outputs": [
    {
     "name": "stdout",
     "output_type": "stream",
     "text": [
      "Epoch [1/10], Training Loss: 0.238, Training Accuracy: 93.095%\n",
      "Epoch [2/10], Training Loss: 0.085, Training Accuracy: 97.465%\n",
      "Epoch [3/10], Training Loss: 0.054, Training Accuracy: 98.322%\n",
      "Epoch [4/10], Training Loss: 0.039, Training Accuracy: 98.692%\n",
      "Epoch [5/10], Training Loss: 0.028, Training Accuracy: 99.057%\n",
      "Epoch [6/10], Training Loss: 0.023, Training Accuracy: 99.220%\n",
      "Epoch [7/10], Training Loss: 0.018, Training Accuracy: 99.403%\n",
      "Epoch [8/10], Training Loss: 0.019, Training Accuracy: 99.393%\n",
      "Epoch [9/10], Training Loss: 0.013, Training Accuracy: 99.523%\n",
      "Epoch [10/10], Training Loss: 0.015, Training Accuracy: 99.443%\n",
      "DONE TRAINING!\n"
     ]
    }
   ],
   "source": [
    "#Train the network\n",
    "for epoch in range(epochs):\n",
    "    correct_train = 0\n",
    "    running_loss = 0\n",
    "    for i, (images, labels) in enumerate(train_loader):   \n",
    "        #Flatten the image from size (batch,1,28,28) --> (100,1,28,28) where 1 represents the number of channels (grayscale-->1),\n",
    "        # to size (100,784) and wrap it in a variable\n",
    "        images = images.view(-1, 28*28)    \n",
    "        if CUDA:\n",
    "            images = images.cuda()\n",
    "            labels = labels.cuda()\n",
    "            \n",
    "        outputs = net(images)       \n",
    "        _, predicted = torch.max(outputs.data, 1)                                              \n",
    "        correct_train += (predicted == labels).sum() \n",
    "        loss = criterion(outputs, labels)                 # Difference between the actual and predicted (loss function)\n",
    "        running_loss += loss.item()\n",
    "        optimizer.zero_grad() \n",
    "        loss.backward()                                   # Backpropagation\n",
    "        optimizer.step()                                  # Update the weights\n",
    "        \n",
    "    print('Epoch [{}/{}], Training Loss: {:.3f}, Training Accuracy: {:.3f}%'.format\n",
    "          (epoch+1, epochs, running_loss/len(train_loader), (100*correct_train.double()/len(train_dataset))))\n",
    "print(\"DONE TRAINING!\")"
   ]
  },
  {
   "cell_type": "code",
   "execution_count": 8,
   "metadata": {},
   "outputs": [
    {
     "name": "stdout",
     "output_type": "stream",
     "text": [
      "Accuracy of the network on the 10000 test images: 98.07 %\n"
     ]
    }
   ],
   "source": [
    "with torch.no_grad():\n",
    "    correct = 0\n",
    "    for images, labels in test_loader:\n",
    "        if CUDA:\n",
    "            images = images.cuda()\n",
    "            labels = labels.cuda()\n",
    "        images = images.view(-1, 28*28)\n",
    "        outputs = net(images)\n",
    "        _, predicted = torch.max(outputs.data, 1)\n",
    "        correct += (predicted == labels).sum().item()\n",
    "\n",
    "    print('Accuracy of the network on the 10000 test images: {} %'.format(100 * correct / len(test_dataset)))"
   ]
  }
 ],
 "metadata": {
  "kernelspec": {
   "display_name": "studies",
   "language": "python",
   "name": "python3"
  },
  "language_info": {
   "codemirror_mode": {
    "name": "ipython",
    "version": 3
   },
   "file_extension": ".py",
   "mimetype": "text/x-python",
   "name": "python",
   "nbconvert_exporter": "python",
   "pygments_lexer": "ipython3",
   "version": "3.11.10"
  }
 },
 "nbformat": 4,
 "nbformat_minor": 2
}
